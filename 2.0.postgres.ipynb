{
 "cells": [
  {
   "cell_type": "code",
   "execution_count": 11,
   "metadata": {},
   "outputs": [
    {
     "data": {
      "text/plain": [
       "True"
      ]
     },
     "execution_count": 11,
     "metadata": {},
     "output_type": "execute_result"
    }
   ],
   "source": [
    "import pandas as pd\n",
    "import psycopg2\n",
    "import dotenv\n",
    "import os\n",
    "dotenv.load_dotenv()"
   ]
  },
  {
   "cell_type": "markdown",
   "metadata": {},
   "source": [
    "```bash\n",
    "sudo -u postgres psql\n",
    "# Create a new database\n",
    "CREATE DATABASE population;\n",
    "# Create a new user with a password\n",
    "CREATE USER yzpt WITH PASSWORD 'pwd';\n",
    "# Grant the user privileges on the database\n",
    "GRANT ALL PRIVILEGES ON DATABASE population TO yzpt;\n",
    "# Connect to the new database\n",
    "\\c population;\n",
    "```"
   ]
  },
  {
   "cell_type": "code",
   "execution_count": 4,
   "metadata": {},
   "outputs": [
    {
     "name": "stderr",
     "output_type": "stream",
     "text": [
      "/tmp/ipykernel_23102/1948031382.py:1: DtypeWarning: Columns (1) have mixed types. Specify dtype option on import or set low_memory=False.\n",
      "  df = pd.read_csv('data/TD_POP1B_2021.csv', sep=';')\n"
     ]
    },
    {
     "data": {
      "text/html": [
       "<div>\n",
       "<style scoped>\n",
       "    .dataframe tbody tr th:only-of-type {\n",
       "        vertical-align: middle;\n",
       "    }\n",
       "\n",
       "    .dataframe tbody tr th {\n",
       "        vertical-align: top;\n",
       "    }\n",
       "\n",
       "    .dataframe thead th {\n",
       "        text-align: right;\n",
       "    }\n",
       "</style>\n",
       "<table border=\"1\" class=\"dataframe\">\n",
       "  <thead>\n",
       "    <tr style=\"text-align: right;\">\n",
       "      <th></th>\n",
       "      <th>NIVGEO</th>\n",
       "      <th>CODGEO</th>\n",
       "      <th>LIBGEO</th>\n",
       "      <th>SEXE</th>\n",
       "      <th>AGED100</th>\n",
       "      <th>NB</th>\n",
       "    </tr>\n",
       "  </thead>\n",
       "  <tbody>\n",
       "    <tr>\n",
       "      <th>0</th>\n",
       "      <td>COM</td>\n",
       "      <td>1001</td>\n",
       "      <td>L'Abergement-Clémenciat</td>\n",
       "      <td>1</td>\n",
       "      <td>0</td>\n",
       "      <td>6.789402</td>\n",
       "    </tr>\n",
       "    <tr>\n",
       "      <th>1</th>\n",
       "      <td>COM</td>\n",
       "      <td>1001</td>\n",
       "      <td>L'Abergement-Clémenciat</td>\n",
       "      <td>2</td>\n",
       "      <td>0</td>\n",
       "      <td>4.945818</td>\n",
       "    </tr>\n",
       "    <tr>\n",
       "      <th>2</th>\n",
       "      <td>COM</td>\n",
       "      <td>1001</td>\n",
       "      <td>L'Abergement-Clémenciat</td>\n",
       "      <td>1</td>\n",
       "      <td>1</td>\n",
       "      <td>7.834433</td>\n",
       "    </tr>\n",
       "    <tr>\n",
       "      <th>3</th>\n",
       "      <td>COM</td>\n",
       "      <td>1001</td>\n",
       "      <td>L'Abergement-Clémenciat</td>\n",
       "      <td>2</td>\n",
       "      <td>1</td>\n",
       "      <td>6.814843</td>\n",
       "    </tr>\n",
       "    <tr>\n",
       "      <th>4</th>\n",
       "      <td>COM</td>\n",
       "      <td>1001</td>\n",
       "      <td>L'Abergement-Clémenciat</td>\n",
       "      <td>1</td>\n",
       "      <td>2</td>\n",
       "      <td>3.900268</td>\n",
       "    </tr>\n",
       "  </tbody>\n",
       "</table>\n",
       "</div>"
      ],
      "text/plain": [
       "  NIVGEO CODGEO                   LIBGEO  SEXE  AGED100        NB\n",
       "0    COM   1001  L'Abergement-Clémenciat     1        0  6.789402\n",
       "1    COM   1001  L'Abergement-Clémenciat     2        0  4.945818\n",
       "2    COM   1001  L'Abergement-Clémenciat     1        1  7.834433\n",
       "3    COM   1001  L'Abergement-Clémenciat     2        1  6.814843\n",
       "4    COM   1001  L'Abergement-Clémenciat     1        2  3.900268"
      ]
     },
     "execution_count": 4,
     "metadata": {},
     "output_type": "execute_result"
    }
   ],
   "source": [
    "df = pd.read_csv('data/TD_POP1B_2021.csv', sep=';')\n",
    "df.head()"
   ]
  },
  {
   "cell_type": "code",
   "execution_count": 31,
   "metadata": {},
   "outputs": [
    {
     "data": {
      "text/plain": [
       "(5105484, 6)"
      ]
     },
     "execution_count": 31,
     "metadata": {},
     "output_type": "execute_result"
    }
   ],
   "source": [
    "df.shape"
   ]
  },
  {
   "cell_type": "code",
   "execution_count": 27,
   "metadata": {},
   "outputs": [],
   "source": [
    "# Connect to PostgreSQL\n",
    "conn = psycopg2.connect(\n",
    "    host=os.getenv('POSTGRES_HOST'),\n",
    "    user=os.getenv('POSTGRES_USER'),\n",
    "    password=os.getenv('POSTGRES_PASSWORD'),\n",
    "    dbname=os.getenv('POSTGRES_DATABASE'),\n",
    "    port=os.getenv('POSTGRES_PORT')\n",
    ")\n",
    "cur = conn.cursor()\n"
   ]
  },
  {
   "cell_type": "code",
   "execution_count": 28,
   "metadata": {},
   "outputs": [],
   "source": [
    "# Create table\n",
    "cur.execute(\"\"\"\n",
    "    CREATE TABLE IF NOT EXISTS age_sex_pyramid (\n",
    "        NIVGEO TEXT,\n",
    "        CODGEO TEXT,\n",
    "        LIBGEO TEXT,\n",
    "        SEXE INTEGER,\n",
    "        AGED100 INTEGER,\n",
    "        NB FLOAT\n",
    "    )\n",
    "\"\"\")\n",
    "\n",
    "conn.commit()"
   ]
  },
  {
   "cell_type": "code",
   "execution_count": 30,
   "metadata": {},
   "outputs": [
    {
     "name": "stderr",
     "output_type": "stream",
     "text": [
      "Inserting data: 100%|██████████| 5105484/5105484 [35:16<00:00, 2411.82it/s]  \n"
     ]
    }
   ],
   "source": [
    "import tqdm\n",
    "\n",
    "# Insert data with progress bar\n",
    "for _, row in tqdm.tqdm(df.iterrows(), total=len(df), desc=\"Inserting data\"):\n",
    "    try:\n",
    "        cur.execute(\"\"\"\n",
    "            INSERT INTO age_sex_pyramid (NIVGEO, CODGEO, LIBGEO, SEXE, AGED100, NB)\n",
    "            VALUES (%s, %s, %s, %s, %s, %s)\n",
    "        \"\"\", tuple(row))\n",
    "    except Exception as e:\n",
    "        print(e)\n",
    "        print(row)\n",
    "\n",
    "conn.commit()"
   ]
  },
  {
   "cell_type": "code",
   "execution_count": null,
   "metadata": {},
   "outputs": [],
   "source": [
    "cur.close()\n"
   ]
  },
  {
   "cell_type": "code",
   "execution_count": null,
   "metadata": {},
   "outputs": [],
   "source": [
    "conn.close()\n"
   ]
  },
  {
   "cell_type": "code",
   "execution_count": 1,
   "metadata": {},
   "outputs": [
    {
     "name": "stderr",
     "output_type": "stream",
     "text": [
      "/tmp/ipykernel_173619/2814901086.py:25: UserWarning: pandas only supports SQLAlchemy connectable (engine/connection) or database string URI or sqlite3 DBAPI2 connection. Other DBAPI2 objects are not tested. Please consider using SQLAlchemy.\n",
      "  df_population = pd.read_sql(query, conn)\n"
     ]
    },
    {
     "name": "stdout",
     "output_type": "stream",
     "text": [
      "  codegeo  total_population_sum\n",
      "0   48181                  60.0\n",
      "1    2571                1408.0\n",
      "2   64217                 534.0\n",
      "3   35250                4542.0\n",
      "4   55173                  38.0\n"
     ]
    }
   ],
   "source": [
    "import pandas as pd\n",
    "import psycopg2\n",
    "import os\n",
    "import dotenv\n",
    "\n",
    "# Load environment variables\n",
    "dotenv.load_dotenv()\n",
    "\n",
    "# Connect to PostgreSQL\n",
    "conn = psycopg2.connect(\n",
    "    host=os.getenv('POSTGRES_HOST'),\n",
    "    user=os.getenv('POSTGRES_USER'),\n",
    "    password=os.getenv('POSTGRES_PASSWORD'),\n",
    "    dbname=os.getenv('POSTGRES_DATABASE'),\n",
    "    port=os.getenv('POSTGRES_PORT')\n",
    ")\n",
    "\n",
    "# Query the data and aggregate by CODGEO\n",
    "query = \"\"\"\n",
    "    SELECT CODGEO, SUM(NB) AS total_population_sum\n",
    "    FROM age_sex_pyramid\n",
    "    GROUP BY CODGEO\n",
    "\"\"\"\n",
    "\n",
    "df_population = pd.read_sql(query, conn)\n",
    "\n",
    "# Optionally, you can change the column names to match the desired format\n",
    "df_population.columns = ['codegeo', 'total_population_sum']\n",
    "\n",
    "# Display the resulting DataFrame\n",
    "print(df_population.head())\n",
    "\n",
    "# Close the connection\n",
    "conn.close()\n"
   ]
  },
  {
   "cell_type": "code",
   "execution_count": 5,
   "metadata": {},
   "outputs": [],
   "source": [
    "df_population.to_csv('data/total_population.csv', index=False)"
   ]
  },
  {
   "cell_type": "code",
   "execution_count": 4,
   "metadata": {},
   "outputs": [],
   "source": [
    "df_population['code'] = df_population['codegeo']"
   ]
  }
 ],
 "metadata": {
  "kernelspec": {
   "display_name": "venv_react_tiles_population",
   "language": "python",
   "name": "python3"
  },
  "language_info": {
   "codemirror_mode": {
    "name": "ipython",
    "version": 3
   },
   "file_extension": ".py",
   "mimetype": "text/x-python",
   "name": "python",
   "nbconvert_exporter": "python",
   "pygments_lexer": "ipython3",
   "version": "3.10.12"
  }
 },
 "nbformat": 4,
 "nbformat_minor": 2
}
